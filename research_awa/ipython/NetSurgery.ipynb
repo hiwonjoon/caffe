{
 "metadata": {
  "name": "",
  "signature": "sha256:169775ce087319b1adb7bba672e12763b54af2950340581de6afb8c155c1b5e5"
 },
 "nbformat": 3,
 "nbformat_minor": 0,
 "worksheets": [
  {
   "cells": [
    {
     "cell_type": "code",
     "collapsed": false,
     "input": [
      "import numpy as np\n",
      "caffe_root = '../../'\n",
      "import sys\n",
      "sys.path.insert(0, caffe_root+'python')\n",
      "import caffe\n",
      "\n",
      "caffe.set_mode_gpu()\n",
      "net = caffe.Net('deploy.prototxt','../nin_base.caffemodel', caffe.TEST)\n",
      "net_dropout = caffe.Net('deploy_dropout.prototxt','../awa_nin_dropout.caffemodel', caffe.TEST)"
     ],
     "language": "python",
     "metadata": {},
     "outputs": [],
     "prompt_number": 2
    },
    {
     "cell_type": "code",
     "collapsed": false,
     "input": [
      "params = ['conv1', 'cccp1', 'cccp2', 'conv2', 'cccp3', 'cccp4', 'conv3', 'cccp5', 'cccp6', 'conv4-1024', 'cccp7-1024']\n",
      "# fc_params = {name: (weights, biases)}\n",
      "net_params = {pr: (net.params[pr][0].data, net.params[pr][1].data) for pr in params}\n",
      "for fc in params:\n",
      "    print '{} weights are {} dimensional and biases are {} dimensional'.format(fc, net_params[fc][0].shape, net_params[fc][1].shape)"
     ],
     "language": "python",
     "metadata": {},
     "outputs": [
      {
       "output_type": "stream",
       "stream": "stdout",
       "text": [
        "conv1 weights are (96, 3, 11, 11) dimensional and biases are (96,) dimensional\n",
        "cccp1 weights are (96, 96, 1, 1) dimensional and biases are (96,) dimensional\n",
        "cccp2 weights are (96, 96, 1, 1) dimensional and biases are (96,) dimensional\n",
        "conv2 weights are (256, 96, 5, 5) dimensional and biases are (256,) dimensional\n",
        "cccp3 weights are (256, 256, 1, 1) dimensional and biases are (256,) dimensional\n",
        "cccp4 weights are (256, 256, 1, 1) dimensional and biases are (256,) dimensional\n",
        "conv3 weights are (384, 256, 3, 3) dimensional and biases are (384,) dimensional\n",
        "cccp5 weights are (384, 384, 1, 1) dimensional and biases are (384,) dimensional\n",
        "cccp6 weights are (384, 384, 1, 1) dimensional and biases are (384,) dimensional\n",
        "conv4-1024 weights are (1024, 384, 3, 3) dimensional and biases are (1024,) dimensional\n",
        "cccp7-1024 weights are (1024, 1024, 1, 1) dimensional and biases are (1024,) dimensional\n"
       ]
      }
     ],
     "prompt_number": 10
    },
    {
     "cell_type": "code",
     "collapsed": false,
     "input": [
      "net_dropout_params = {pr: (net_dropout.params[pr][0].data, net_dropout.params[pr][1].data) for pr in params}\n",
      "for fc in params:\n",
      "    print '{} weights are {} dimensional and biases are {} dimensional'.format(fc, net_dropout_params[fc][0].shape, net_dropout_params[fc][1].shape)"
     ],
     "language": "python",
     "metadata": {},
     "outputs": [
      {
       "output_type": "stream",
       "stream": "stdout",
       "text": [
        "conv1 weights are (96, 3, 11, 11) dimensional and biases are (96,) dimensional\n",
        "cccp1 weights are (96, 96, 1, 1) dimensional and biases are (96,) dimensional\n",
        "cccp2 weights are (96, 96, 1, 1) dimensional and biases are (96,) dimensional\n",
        "conv2 weights are (256, 96, 5, 5) dimensional and biases are (256,) dimensional\n",
        "cccp3 weights are (256, 256, 1, 1) dimensional and biases are (256,) dimensional\n",
        "cccp4 weights are (256, 256, 1, 1) dimensional and biases are (256,) dimensional\n",
        "conv3 weights are (384, 256, 3, 3) dimensional and biases are (384,) dimensional\n",
        "cccp5 weights are (384, 384, 1, 1) dimensional and biases are (384,) dimensional\n",
        "cccp6 weights are (384, 384, 1, 1) dimensional and biases are (384,) dimensional\n",
        "conv4-1024 weights are (1024, 384, 3, 3) dimensional and biases are (1024,) dimensional\n",
        "cccp7-1024 weights are (1024, 1024, 1, 1) dimensional and biases are (1024,) dimensional\n"
       ]
      }
     ],
     "prompt_number": 11
    },
    {
     "cell_type": "code",
     "collapsed": false,
     "input": [
      "for pr in params:\n",
      "    net_dropout_params[pr] = net_params[pr]\n",
      "\n",
      "net_dropout.save('../nin_dropout_base.caffemodel')"
     ],
     "language": "python",
     "metadata": {},
     "outputs": [],
     "prompt_number": 16
    },
    {
     "cell_type": "code",
     "collapsed": false,
     "input": [
      "import numpy as np\n",
      "caffe_root = '../../'\n",
      "import sys\n",
      "sys.path.insert(0, caffe_root+'python')\n",
      "import caffe\n",
      "\n",
      "caffe.set_mode_gpu()\n",
      "net = caffe.Net('deploy_new.prototxt', caffe.TEST)\n",
      "net_from = caffe.Net('deploy.prototxt', '../nin_base.caffemodel', caffe.TEST )"
     ],
     "language": "python",
     "metadata": {},
     "outputs": [],
     "prompt_number": 10
    },
    {
     "cell_type": "code",
     "collapsed": false,
     "input": [
      "base_params = ['conv1', 'cccp1', 'cccp2', 'conv2', 'cccp3', 'cccp4', 'conv3', 'cccp5', 'cccp6', 'conv4-1024', 'cccp7-1024']\n",
      "from_prams = ['conv4-1024', 'cccp7-1024']\n",
      "to_prams = ['conv4-1024-sup', 'cccp7-1024-sup']\n",
      "\n",
      "# fc_params = {name: (weights, biases)}\n",
      "net_params = {pr: (net_from.params[pr][0].data, net_from.params[pr][1].data) for pr in base_params}\n",
      "for fc in base_params:\n",
      "    print '{} weights are {} dimensional and biases are {} dimensional'.format(fc, net_params[fc][0].shape, net_params[fc][1].shape)\n",
      "net_params = {pr: (net.params[pr][0].data, net.params[pr][1].data) for pr in base_params}\n",
      "for fc in base_params:\n",
      "    print '{} weights are {} dimensional and biases are {} dimensional'.format(fc, net_params[fc][0].shape, net_params[fc][1].shape)\n",
      "net_params = {pr: (net.params[pr][0].data, net.params[pr][1].data) for pr in to_prams}\n",
      "for fc in to_prams:\n",
      "    print '{} weights are {} dimensional and biases are {} dimensional'.format(fc, net_params[fc][0].shape, net_params[fc][1].shape)"
     ],
     "language": "python",
     "metadata": {},
     "outputs": [
      {
       "output_type": "stream",
       "stream": "stdout",
       "text": [
        "conv1 weights are (96, 3, 11, 11) dimensional and biases are (96,) dimensional\n",
        "cccp1 weights are (96, 96, 1, 1) dimensional and biases are (96,) dimensional\n",
        "cccp2 weights are (96, 96, 1, 1) dimensional and biases are (96,) dimensional\n",
        "conv2 weights are (256, 96, 5, 5) dimensional and biases are (256,) dimensional\n",
        "cccp3 weights are (256, 256, 1, 1) dimensional and biases are (256,) dimensional\n",
        "cccp4 weights are (256, 256, 1, 1) dimensional and biases are (256,) dimensional\n",
        "conv3 weights are (384, 256, 3, 3) dimensional and biases are (384,) dimensional\n",
        "cccp5 weights are (384, 384, 1, 1) dimensional and biases are (384,) dimensional\n",
        "cccp6 weights are (384, 384, 1, 1) dimensional and biases are (384,) dimensional\n",
        "conv4-1024 weights are (1024, 384, 3, 3) dimensional and biases are (1024,) dimensional\n",
        "cccp7-1024 weights are (1024, 1024, 1, 1) dimensional and biases are (1024,) dimensional\n",
        "conv1 weights are (96, 3, 11, 11) dimensional and biases are (96,) dimensional\n",
        "cccp1 weights are (96, 96, 1, 1) dimensional and biases are (96,) dimensional\n",
        "cccp2 weights are (96, 96, 1, 1) dimensional and biases are (96,) dimensional\n",
        "conv2 weights are (256, 96, 5, 5) dimensional and biases are (256,) dimensional\n",
        "cccp3 weights are (256, 256, 1, 1) dimensional and biases are (256,) dimensional\n",
        "cccp4 weights are (256, 256, 1, 1) dimensional and biases are (256,) dimensional\n",
        "conv3 weights are (384, 256, 3, 3) dimensional and biases are (384,) dimensional\n",
        "cccp5 weights are (384, 384, 1, 1) dimensional and biases are (384,) dimensional\n",
        "cccp6 weights are (384, 384, 1, 1) dimensional and biases are (384,) dimensional\n",
        "conv4-1024 weights are (1024, 384, 3, 3) dimensional and biases are (1024,) dimensional\n",
        "cccp7-1024 weights are (1024, 1024, 1, 1) dimensional and biases are (1024,) dimensional\n",
        "conv4-1024-sup weights are (1024, 384, 3, 3) dimensional and biases are (1024,) dimensional\n",
        "cccp7-1024-sup weights are (1024, 1024, 1, 1) dimensional and biases are (1024,) dimensional\n"
       ]
      }
     ],
     "prompt_number": 18
    },
    {
     "cell_type": "code",
     "collapsed": false,
     "input": [
      "for base in base_params:\n",
      "    #print net.params[base][0], net_from.params[base][0]\n",
      "    net.params[base][0].data[...] = net_from.params[base][0].data\n",
      "    net.params[base][1].data[...] = net_from.params[base][1].data\n",
      "    #print net.params[base][0], net_from.params[base][0]\n",
      "\n",
      "for from_,to_ in zip(from_prams,to_prams):\n",
      "    #print net.params[base][0], net_from.params[base][0]\n",
      "    net.params[to_][0].data[...] = net_from.params[from_][0].data\n",
      "    net.params[to_][1].data[...] = net_from.params[from_][1].data\n",
      "    #print net.params[base][0], net_from.params[base][0]\n",
      "    \n",
      "# for from_,to_ in zip(from_params,to_prams):\n",
      "#     net.params[to_] =net_from.params[from_]\n",
      "\n",
      "net.save('../nin_sc_new.caffemodel')"
     ],
     "language": "python",
     "metadata": {},
     "outputs": [],
     "prompt_number": 19
    },
    {
     "cell_type": "code",
     "collapsed": false,
     "input": [],
     "language": "python",
     "metadata": {},
     "outputs": []
    }
   ],
   "metadata": {}
  }
 ]
}