{
 "metadata": {
  "name": "",
  "signature": "sha256:b2af23c363984cdea140298a7bbeed12659164ea17a30961ab445b7c852af22f"
 },
 "nbformat": 3,
 "nbformat_minor": 0,
 "worksheets": [
  {
   "cells": [
    {
     "cell_type": "code",
     "collapsed": false,
     "input": [
      "import numpy as np\n",
      "\n",
      "def extract_data(filename) :\n",
      "    import numpy as np\n",
      "    import re\n",
      "    f = open(filename,'r').read();\n",
      "\n",
      "    p = re.compile(u'Iteration ([0-9]+), loss = ([0-9]+\\.[0-9]+)\\n.+Train net output #0: accuracy = ([0-9]*\\.*[0-9]+)\\n')\n",
      "\n",
      "    data = {}\n",
      "    \n",
      "    it_ = [];\n",
      "    loss_ = [];\n",
      "    acc_ = [];\n",
      "    for it, loss, acc in re.findall(p,f):\n",
      "        it_.append(int(it))\n",
      "        loss_.append(float(loss));\n",
      "        acc_.append(float(acc))\n",
      "    data['loss'] = {'iteration':np.array(it_),'loss':np.array(loss_)}\n",
      "    data['train_accuracy']={'iteration':np.array(it_),'accuracy':np.array(acc_)}\n",
      "    \n",
      "    it_ = [];\n",
      "    acc_ = [];\n",
      "    p = re.compile(u'Iteration ([0-9]+), Testing net \\(#0\\)\\n.+Test net output #0: accuracy = ([0-9]*\\.*[0-9]+)\\(.+\\)\\n')\n",
      "    for it, acc in  re.findall(p,f):\n",
      "        it_.append(int(it))\n",
      "        acc_.append(float(acc))\n",
      "    data['test_accuracy']={'iteration':np.array(it_),'accuracy':np.array(acc_)}\n",
      "\n",
      "    it_ = [];\n",
      "    acc_ = [];\n",
      "    p = re.compile(u'Iteration ([0-9]+), Testing net \\(#0\\)\\n.+Test net output #0: accuracy = ([0-9]*\\.*[0-9]+)\\(.+\\)\\n')\n",
      "    for it, acc in  re.findall(p,f):\n",
      "        it_.append(int(it))\n",
      "        acc_.append(float(acc))\n",
      "    data['test_accuracy']={'iteration':np.array(it_),'accuracy':np.array(acc_)}\n",
      "    \n",
      "    return data\n",
      "\n",
      "\n",
      "#data = extract_data('./logs/2015-05-29_12_59.log')"
     ],
     "language": "python",
     "metadata": {},
     "outputs": [],
     "prompt_number": 1
    },
    {
     "cell_type": "code",
     "collapsed": false,
     "input": [
      "%matplotlib inline\n",
      "import matplotlib\n",
      "import matplotlib.pyplot as plt\n",
      "import matplotlib.cm as cm\n",
      "\n",
      "from IPython.display import display, clear_output\n",
      "import sys, time\n",
      "while(True):\n",
      "    data = extract_data('../super_category_nin_my_tree_3/2015-05-31_10_25.log')\n",
      "    fig, ax1 = plt.subplots()\n",
      "    ax1.plot(data['loss']['iteration'],data['loss']['loss'],label='loss')\n",
      "    ax1.legend(loc=0)\n",
      "    ax2 = ax1.twinx()\n",
      "    ax2.plot(data['test_accuracy']['iteration'],data['test_accuracy']['accuracy'],label='test_accuracy',linestyle='--')\n",
      "    ax2.plot(data['train_accuracy']['iteration'],data['train_accuracy']['accuracy'],label='train_accuracy',linestyle='--')\n",
      "    ax2.legend(bbox_to_anchor=(1.05, 1), loc=2, borderaxespad=0.)\n",
      "    plt.show()\n",
      "    fig.clf()\n",
      "\n",
      "    data = extract_data('../super_category_nin_my_tree_4/2015-05-31_10_23.log')\n",
      "    fig, ax1 = plt.subplots()\n",
      "    ax1.plot(data['loss']['iteration'],data['loss']['loss'],label='loss')\n",
      "    ax1.legend(loc=0)\n",
      "    ax2 = ax1.twinx()\n",
      "    ax2.plot(data['test_accuracy']['iteration'],data['test_accuracy']['accuracy'],label='test_accuracy',linestyle='--')\n",
      "    ax2.plot(data['train_accuracy']['iteration'],data['train_accuracy']['accuracy'],label='train_accuracy',linestyle='--')\n",
      "    ax2.legend(bbox_to_anchor=(1.05, 1), loc=2, borderaxespad=0.)\n",
      "    plt.show()\n",
      "    fig.clf()\n",
      "    clear_output(wait=True)\n",
      "    time.sleep(10)"
     ],
     "language": "python",
     "metadata": {},
     "outputs": [
      {
       "ename": "KeyboardInterrupt",
       "evalue": "",
       "output_type": "pyerr",
       "traceback": [
        "\u001b[0;31m---------------------------------------------------------------------------\u001b[0m\n\u001b[0;31mKeyboardInterrupt\u001b[0m                         Traceback (most recent call last)",
        "\u001b[0;32m<ipython-input-6-b87869ae6c97>\u001b[0m in \u001b[0;36m<module>\u001b[0;34m()\u001b[0m\n\u001b[1;32m     29\u001b[0m     \u001b[0mfig\u001b[0m\u001b[0;34m.\u001b[0m\u001b[0mclf\u001b[0m\u001b[0;34m(\u001b[0m\u001b[0;34m)\u001b[0m\u001b[0;34m\u001b[0m\u001b[0m\n\u001b[1;32m     30\u001b[0m     \u001b[0mclear_output\u001b[0m\u001b[0;34m(\u001b[0m\u001b[0mwait\u001b[0m\u001b[0;34m=\u001b[0m\u001b[0mTrue\u001b[0m\u001b[0;34m)\u001b[0m\u001b[0;34m\u001b[0m\u001b[0m\n\u001b[0;32m---> 31\u001b[0;31m     \u001b[0mtime\u001b[0m\u001b[0;34m.\u001b[0m\u001b[0msleep\u001b[0m\u001b[0;34m(\u001b[0m\u001b[0;36m10\u001b[0m\u001b[0;34m)\u001b[0m\u001b[0;34m\u001b[0m\u001b[0m\n\u001b[0m",
        "\u001b[0;31mKeyboardInterrupt\u001b[0m: "
       ]
      }
     ],
     "prompt_number": 6
    },
    {
     "cell_type": "code",
     "collapsed": false,
     "input": [],
     "language": "python",
     "metadata": {},
     "outputs": []
    }
   ],
   "metadata": {}
  }
 ]
}