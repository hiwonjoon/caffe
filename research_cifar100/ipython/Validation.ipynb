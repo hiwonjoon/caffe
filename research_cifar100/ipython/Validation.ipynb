{
 "metadata": {
  "name": "",
  "signature": "sha256:dff34fc80f740f6eaba334c8e26c1513e5b9ed6b18802f1910c929594baeb62d"
 },
 "nbformat": 3,
 "nbformat_minor": 0,
 "worksheets": [
  {
   "cells": [
    {
     "cell_type": "code",
     "collapsed": false,
     "input": [
      "def unpickle(file):\n",
      "    import cPickle\n",
      "    fo = open(file,'rb')\n",
      "    dict = cPickle.load(fo)\n",
      "    fo.close()\n",
      "    return dict\n",
      "\n",
      "def loaddb(file):\n",
      "    import caffe_pb2 as proto\n",
      "    import leveldb\n",
      "    db = None\n",
      "    db = leveldb.LevelDB(file)\n",
      "\n",
      "    obj = []\n",
      "    import struct\n",
      "    for i,data in enumerate(db.RangeIter()):\n",
      "        datum = proto.Datum()\n",
      "        datum.ParseFromString(data[1])\n",
      "        obj.append(datum)\n",
      "        if( i % 1000 == 0 ):\n",
      "            print i\n",
      "    db = None\n",
      "    return obj\n",
      "\n",
      "obj = unpickle('./test_original.pkl')\n",
      "obj_proc = loaddb('./cifar_test_leveldb')"
     ],
     "language": "python",
     "metadata": {},
     "outputs": [
      {
       "output_type": "stream",
       "stream": "stdout",
       "text": [
        "0\n",
        "1000"
       ]
      },
      {
       "output_type": "stream",
       "stream": "stdout",
       "text": [
        "\n",
        "2000"
       ]
      },
      {
       "output_type": "stream",
       "stream": "stdout",
       "text": [
        "\n",
        "3000"
       ]
      },
      {
       "output_type": "stream",
       "stream": "stdout",
       "text": [
        "\n",
        "4000"
       ]
      },
      {
       "output_type": "stream",
       "stream": "stdout",
       "text": [
        "\n",
        "5000"
       ]
      },
      {
       "output_type": "stream",
       "stream": "stdout",
       "text": [
        "\n",
        "6000"
       ]
      },
      {
       "output_type": "stream",
       "stream": "stdout",
       "text": [
        "\n",
        "7000"
       ]
      },
      {
       "output_type": "stream",
       "stream": "stdout",
       "text": [
        "\n",
        "8000"
       ]
      },
      {
       "output_type": "stream",
       "stream": "stdout",
       "text": [
        "\n",
        "9000"
       ]
      },
      {
       "output_type": "stream",
       "stream": "stdout",
       "text": [
        "\n"
       ]
      }
     ],
     "prompt_number": 2
    },
    {
     "cell_type": "code",
     "collapsed": false,
     "input": [
      "import numpy as np\n",
      "caffe_root = '../../'\n",
      "import sys\n",
      "sys.path.insert(0, caffe_root+'python')\n",
      "import caffe\n",
      "\n",
      "net = caffe.Net('deploy.prototxt','2015-05-13_01_19_cifar100_nin_iter_50000.caffemodel', caffe.TEST)"
     ],
     "language": "python",
     "metadata": {},
     "outputs": [],
     "prompt_number": 3
    },
    {
     "cell_type": "code",
     "collapsed": false,
     "input": [
      "def getActivation(net,datum):\n",
      "\n",
      "    #params = ['fc8_regularized']\n",
      "    #fc_params = {pr: (net.params[pr][0].data, net.params[pr][1].data, net.params[pr][2].data) for pr in params}\n",
      "    #for fc in params:\n",
      "    #    print '{} weights are {} dimensional, biases are {} dimensional and regularize are {} dimensional'.format(fc, fc_params[fc][0].shape, fc_params[fc][1].shape, fc_params[fc][2].shape)\n",
      "    \n",
      "    transformer = caffe.io.Transformer({'data': net.blobs['data'].data.shape})\n",
      "    #print net.blobs['data'].data.shape\n",
      "    \n",
      "    img_proc = np.array(datum.float_data)\n",
      "    r = img_proc[0:1024].reshape(32,32)\n",
      "    g = img_proc[1024:2048].reshape(32,32)\n",
      "    b = img_proc[2048:].reshape(32,32)\n",
      "    img_proc = np.zeros((32,32,3),dtype=np.float)\n",
      "    img_proc[:,:,0] = r;\n",
      "    img_proc[:,:,1] = g;\n",
      "    img_proc[:,:,2] = b;\n",
      "    \n",
      "    #print img_proc.shape\n",
      "    \n",
      "    transformer.set_transpose('data', (2,0,1))\n",
      "    #transformer.set_channel_swap('data', (2,1,0))\n",
      "    #transformer.set_raw_scale('data', 32)\n",
      "    #print transformer.preprocess('data',img_proc).shape\n",
      "\n",
      "    ret = {};\n",
      "    ret['out'] = net.forward_all(data=np.asarray([transformer.preprocess('data', img_proc)]))\n",
      "    #out = net.forward_all(data=np.asarray(datum.float_data))\n",
      "    #print out\n",
      "    labels=[\"apple\",  \"aquarium_fish\",  \"baby\",  \"bear\",  \"beaver\",  \"bed\",  \"bee\",  \"beetle\",  \"bicycle\",  \"bottle\",  \"bowl\",  \"boy\",  \"bridge\",  \"bus\",  \"butterfly\",  \"camel\",  \"can\",  \"castle\",  \"caterpillar\",  \"cattle\",  \"chair\",  \"chimpanzee\",  \"clock\",  \"cloud\",  \"cockroach\",  \"couch\",  \"crab\",  \"crocodile\",  \"cup\",  \"dinosaur\",  \"dolphin\",  \"elephant\",  \"flatfish\",  \"forest\",  \"fox\",  \"girl\",  \"hamster\",  \"house\",  \"kangaroo\",  \"keyboard\",  \"lamp\",  \"lawn_mower\",  \"leopard\",  \"lion\",  \"lizard\",  \"lobster\",  \"man\",  \"maple_tree\",  \"motorcycle\",  \"mountain\",  \"mouse\",  \"mushroom\",  \"oak_tree\",  \"orange\",  \"orchid\",  \"otter\",  \"palm_tree\",  \"pear\",  \"pickup_truck\",  \"pine_tree\",  \"plain\",  \"plate\",  \"poppy\",  \"porcupine\",  \"possum\",  \"rabbit\",  \"raccoon\",  \"ray\",  \"road\",  \"rocket\",  \"rose\",  \"sea\",  \"seal\",  \"shark\",  \"shrew\",  \"skunk\",  \"skyscraper\",  \"snail\",  \"snake\",  \"spider\",  \"squirrel\",  \"streetcar\",  \"sunflower\",  \"sweet_pepper\",  \"table\",  \"tank\",  \"telephone\",  \"television\",  \"tiger\",  \"tractor\",  \"train\",  \"trout\",  \"tulip\",  \"turtle\",  \"wardrobe\",  \"whale\",  \"willow_tree\",  \"wolf\",  \"woman\",  \"worm\"]\n",
      "    \n",
      "    ret['layer1'] = net.blobs['layer1'].data[0,:,:,:]\n",
      "    ret['layer2'] = net.blobs['layer2'].data[0,:,:,:]\n",
      "    ret['classify'] = labels[ret['out']['loss1'].argmax(axis=1)];\n",
      "    return ret\n",
      "    #print net.params['fc8_regularized'][2].data.size\n",
      "    #print net.params['fc8_regularized'][2].data\n",
      "    #print open('./train_val.prototxt').read()"
     ],
     "language": "python",
     "metadata": {},
     "outputs": [],
     "prompt_number": 29
    },
    {
     "cell_type": "code",
     "collapsed": false,
     "input": [
      "%matplotlib inline\n",
      "import matplotlib.pyplot as plt\n",
      "\n",
      "# Turn interactive plotting off\n",
      "plt.ioff()\n",
      "\n",
      "import numpy as np\n",
      "import matplotlib.cm as cm\n",
      "\n",
      "samples = {};\n",
      "for i in range(0,len(obj['data'])):\n",
      "    if( samples.has_key(obj['fine_labels'][i]) == False ):\n",
      "        samples[obj['fine_labels'][i]] = i\n",
      "    if( len(samples) == 100):\n",
      "        break;\n",
      "        \n",
      "import operator\n",
      "samples = sorted(samples.items(), key=operator.itemgetter(0))\n",
      "\n",
      "for (label,index) in samples:\n",
      "    img = obj['data'][index]\n",
      "    r = img[0:1024].reshape(32,32)\n",
      "    g = img[1024:2048].reshape(32,32)\n",
      "    b = img[2048:].reshape(32,32)\n",
      "    img = np.zeros((32,32,3),dtype=np.uint8)\n",
      "    img[:,:,0] = r;\n",
      "    img[:,:,1] = g;\n",
      "    img[:,:,2] = b;\n",
      "    \n",
      "    #img_proc = np.array(obj_proc[index].float_data)\n",
      "    #r = img_proc[0:1024].reshape(32,32)\n",
      "    #g = img_proc[1024:2048].reshape(32,32)\n",
      "    #b = img_proc[2048:].reshape(32,32)\n",
      "    #img_proc = np.zeros((32,32),dtype=np.float)\n",
      "    #img_proc[:,:] = r;\n",
      "    #img_proc[:,:,1] = g;\n",
      "    #img_proc[:,:,2] = b;\n",
      "    #imgplot = ax2.imshow(img_proc,extent=[-5,5,-5,5])\n",
      "    #ax2.axis('off')\n",
      "    \n",
      "    ret = getActivation(net,obj_proc[index])\n",
      "    a = ret['layer1'].reshape(ret['layer1'].size)\n",
      "    a = np.sort(a)[-160]\n",
      "    ret['layer1'] = ret['layer1'].clip(min = a)\n",
      "    \n",
      "    fig,ax = plt.subplots(nrows=1, ncols=25+1)\n",
      "    fig.set_size_inches(20,20)\n",
      "    imgplot = ax[0].imshow(img)\n",
      "    ax[0].axis('off')\n",
      "    \n",
      "    for i in range(0,25):\n",
      "        imgplot = ax[i+1].imshow(ret['layer1'][i,:,:],cmap = cm.Greys_r,extent=[0,100,0,100])\n",
      "        ax[i+1].axis('off')\n",
      "        \n",
      "    labels=[\"apple\",  \"aquarium_fish\",  \"baby\",  \"bear\",  \"beaver\",  \"bed\",  \"bee\",  \"beetle\",  \"bicycle\",  \"bottle\",  \"bowl\",  \"boy\",  \"bridge\",  \"bus\",  \"butterfly\",  \"camel\",  \"can\",  \"castle\",  \"caterpillar\",  \"cattle\",  \"chair\",  \"chimpanzee\",  \"clock\",  \"cloud\",  \"cockroach\",  \"couch\",  \"crab\",  \"crocodile\",  \"cup\",  \"dinosaur\",  \"dolphin\",  \"elephant\",  \"flatfish\",  \"forest\",  \"fox\",  \"girl\",  \"hamster\",  \"house\",  \"kangaroo\",  \"keyboard\",  \"lamp\",  \"lawn_mower\",  \"leopard\",  \"lion\",  \"lizard\",  \"lobster\",  \"man\",  \"maple_tree\",  \"motorcycle\",  \"mountain\",  \"mouse\",  \"mushroom\",  \"oak_tree\",  \"orange\",  \"orchid\",  \"otter\",  \"palm_tree\",  \"pear\",  \"pickup_truck\",  \"pine_tree\",  \"plain\",  \"plate\",  \"poppy\",  \"porcupine\",  \"possum\",  \"rabbit\",  \"raccoon\",  \"ray\",  \"road\",  \"rocket\",  \"rose\",  \"sea\",  \"seal\",  \"shark\",  \"shrew\",  \"skunk\",  \"skyscraper\",  \"snail\",  \"snake\",  \"spider\",  \"squirrel\",  \"streetcar\",  \"sunflower\",  \"sweet_pepper\",  \"table\",  \"tank\",  \"telephone\",  \"television\",  \"tiger\",  \"tractor\",  \"train\",  \"trout\",  \"tulip\",  \"turtle\",  \"wardrobe\",  \"whale\",  \"willow_tree\",  \"wolf\",  \"woman\",  \"worm\"]\n",
      "    plt.savefig('%s_%s.png'%(labels[label],ret['classify']), transparent=True, bbox_inches='tight', pad_inches=0) #, dpi=fig.dpi)\n",
      "    #plt.show()\n",
      "    plt.close(fig)\n",
      "    \n",
      "    print label\n",
      "    sys.stdout.flush()"
     ],
     "language": "python",
     "metadata": {},
     "outputs": [
      {
       "output_type": "stream",
       "stream": "stdout",
       "text": [
        "0\n"
       ]
      },
      {
       "output_type": "stream",
       "stream": "stdout",
       "text": [
        "1\n"
       ]
      },
      {
       "output_type": "stream",
       "stream": "stdout",
       "text": [
        "2\n"
       ]
      },
      {
       "output_type": "stream",
       "stream": "stdout",
       "text": [
        "3\n"
       ]
      },
      {
       "output_type": "stream",
       "stream": "stdout",
       "text": [
        "4\n"
       ]
      },
      {
       "output_type": "stream",
       "stream": "stdout",
       "text": [
        "5\n"
       ]
      },
      {
       "output_type": "stream",
       "stream": "stdout",
       "text": [
        "6\n"
       ]
      },
      {
       "output_type": "stream",
       "stream": "stdout",
       "text": [
        "7\n"
       ]
      },
      {
       "output_type": "stream",
       "stream": "stdout",
       "text": [
        "8\n"
       ]
      },
      {
       "output_type": "stream",
       "stream": "stdout",
       "text": [
        "9\n"
       ]
      },
      {
       "output_type": "stream",
       "stream": "stdout",
       "text": [
        "10\n"
       ]
      },
      {
       "output_type": "stream",
       "stream": "stdout",
       "text": [
        "11\n"
       ]
      },
      {
       "output_type": "stream",
       "stream": "stdout",
       "text": [
        "12\n"
       ]
      },
      {
       "output_type": "stream",
       "stream": "stdout",
       "text": [
        "13\n"
       ]
      },
      {
       "output_type": "stream",
       "stream": "stdout",
       "text": [
        "14\n"
       ]
      },
      {
       "output_type": "stream",
       "stream": "stdout",
       "text": [
        "15\n"
       ]
      },
      {
       "output_type": "stream",
       "stream": "stdout",
       "text": [
        "16\n"
       ]
      },
      {
       "output_type": "stream",
       "stream": "stdout",
       "text": [
        "17\n"
       ]
      },
      {
       "output_type": "stream",
       "stream": "stdout",
       "text": [
        "18\n"
       ]
      },
      {
       "output_type": "stream",
       "stream": "stdout",
       "text": [
        "19\n"
       ]
      },
      {
       "output_type": "stream",
       "stream": "stdout",
       "text": [
        "20\n"
       ]
      }
     ]
    },
    {
     "cell_type": "code",
     "collapsed": false,
     "input": [
      "fig,ax = plt.subplots(nrows=100, ncols=25+1)"
     ],
     "language": "python",
     "metadata": {},
     "outputs": []
    }
   ],
   "metadata": {}
  }
 ]
}