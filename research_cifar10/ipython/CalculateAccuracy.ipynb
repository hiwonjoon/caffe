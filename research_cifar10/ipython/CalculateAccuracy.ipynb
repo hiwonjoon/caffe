{
 "cells": [
  {
   "cell_type": "code",
   "execution_count": 1,
   "metadata": {
    "collapsed": false
   },
   "outputs": [],
   "source": [
    "import numpy as np\n",
    "caffe_root = '../../'\n",
    "import sys\n",
    "sys.path.insert(0, caffe_root+'python')\n",
    "import caffe\n",
    "\n",
    "#net = caffe.Net('../nin_sc_new/deploy.prototxt','../nin_sc_new/cifar10_nin_supercategory_iter_60000.caffemodel', caffe.TEST)\n",
    "#net = caffe.Net('../super_category_nin/deploy.prototxt','../super_category_nin/cifar10_nin_supercategory_iter_60000.caffemodel', caffe.TEST)\n",
    "net = caffe.Net('./deploy.prototxt','../base.caffemodel', caffe.TEST)\n",
    "caffe.set_mode_gpu()"
   ]
  },
  {
   "cell_type": "code",
   "execution_count": 22,
   "metadata": {
    "collapsed": true
   },
   "outputs": [],
   "source": [
    "def predict(net, inputs, oversample=True):\n",
    "    \"\"\"\n",
    "    Predict classification probabilities of inputs.\n",
    "    Parameters\n",
    "    ----------\n",
    "    inputs : iterable of (H x W x K) input ndarrays.\n",
    "    oversample : boolean\n",
    "        average predictions across center, corners, and mirrors\n",
    "        when True (default). Center-only prediction when False.\n",
    "    Returns\n",
    "    -------\n",
    "    predictions: (N x C) ndarray of class probabilities for N images and C\n",
    "        classes.\n",
    "    \"\"\"\n",
    "    transformer = caffe.io.Transformer({'data': net.blobs['data'].data.shape})\n",
    "    transformer.set_transpose('data', (2,0,1))\n",
    "    \n",
    "    if oversample:\n",
    "        # Generate center, corner, and mirrored crops.\n",
    "        input_ = caffe.io.oversample(inputs, [26,26])\n",
    "    else:\n",
    "        # Take center crop.\n",
    "        center = np.array([32,32]) / 2.0\n",
    "        crop = np.tile(center, (1, 2))[0] + np.concatenate([\n",
    "            np.array([-26,-26]) / 2.0,\n",
    "            np.array([26,26]) / 2.0\n",
    "        ])\n",
    "        input_ = np.array(inputs)[:, crop[0]:crop[2], crop[1]:crop[3], :]\n",
    "\n",
    "    # Classify\n",
    "    caffe_in = np.zeros(np.array(input_.shape)[[0, 3, 1, 2]],\n",
    "                        dtype=np.float32)\n",
    "    for ix, in_ in enumerate(input_):\n",
    "        caffe_in[ix] = transformer.preprocess(net.inputs[0], in_)\n",
    "    out = net.forward_all(**{net.inputs[0]: caffe_in})\n",
    "    predictions = out[net.outputs[0]]\n",
    "\n",
    "    # For oversampling, average predictions across crops.\n",
    "    if oversample:\n",
    "        predictions = predictions.reshape((len(predictions) / 10, 10, -1))\n",
    "        predictions = predictions.mean(1)\n",
    "\n",
    "    return predictions"
   ]
  },
  {
   "cell_type": "code",
   "execution_count": 3,
   "metadata": {
    "collapsed": true
   },
   "outputs": [],
   "source": [
    "def makeLabelKeyDict() :\n",
    "    dic = {}\n",
    "    for i in range(0,10):\n",
    "        dic[i] = []\n",
    "    \n",
    "    import lmdb\n",
    "    env = lmdb.open('/home/nine/datasets/cifar10/cifar_test_lmdb')\n",
    "    with env.begin() as txn:\n",
    "        cursor = txn.cursor()\n",
    "        for key,value in cursor : \n",
    "            datum = caffe.proto.caffe_pb2.Datum()\n",
    "            datum.ParseFromString(value)\n",
    "            dic[datum.label].append(key)\n",
    "    return dic\n",
    "\n",
    "label_key = makeLabelKeyDict()"
   ]
  },
  {
   "cell_type": "code",
   "execution_count": 4,
   "metadata": {
    "collapsed": true
   },
   "outputs": [],
   "source": [
    "def getImage(key):\n",
    "    import lmdb\n",
    "    \n",
    "    imgs = [];\n",
    "    \n",
    "    img_preprocessed = np.zeros([32,32,3],np.float)\n",
    "    env = lmdb.open('/home/nine/datasets/cifar10/cifar_test_lmdb')\n",
    "    with env.begin() as txn:\n",
    "        cursor = txn.cursor()\n",
    "        value = cursor.get(key)\n",
    "        datum = caffe.proto.caffe_pb2.Datum()\n",
    "        datum.ParseFromString(value)\n",
    "        \n",
    "        label = datum.label\n",
    "        img_preprocessed[:,:,0] = np.array(datum.float_data)[0:1024].reshape(32,32)\n",
    "        img_preprocessed[:,:,1] = np.array(datum.float_data)[1024:2048].reshape(32,32)\n",
    "        img_preprocessed[:,:,2] = np.array(datum.float_data)[2048:].reshape(32,32)\n",
    "        \n",
    "    return (label,img_preprocessed)"
   ]
  },
  {
   "cell_type": "code",
   "execution_count": 5,
   "metadata": {
    "collapsed": true
   },
   "outputs": [],
   "source": [
    "labels = open('/home/nine/datasets/cifar10/label.txt').readlines()\n",
    "labels = [label.strip() for label in labels]"
   ]
  },
  {
   "cell_type": "code",
   "execution_count": 23,
   "metadata": {
    "collapsed": false
   },
   "outputs": [
    {
     "name": "stdout",
     "output_type": "stream",
     "text": [
      "931 / 1000\n",
      "930 / 1000\n",
      "752 / 1000\n",
      "734 / 1000\n",
      "880 / 1000\n",
      "839 / 1000\n",
      "918 / 1000\n",
      "881 / 1000\n",
      "927 / 1000\n",
      "905 / 1000\n",
      "8697 / 10000\n"
     ]
    }
   ],
   "source": [
    "cnt = 0\n",
    "correct = 0\n",
    "for i in range(0,10) :\n",
    "    inner_cnt = 0\n",
    "    inner_correct = 0\n",
    "    for key in label_key[i]:\n",
    "        label,img = getImage(key)\n",
    "        prediction = predict(net,[img],oversample=False)\n",
    "        if prediction.argmax() == label :\n",
    "            correct = correct + 1\n",
    "            inner_correct = inner_correct + 1\n",
    "        cnt = cnt + 1\n",
    "        inner_cnt = inner_cnt + 1\n",
    "    print inner_correct, '/', inner_cnt\n",
    "print correct,'/', cnt"
   ]
  },
  {
   "cell_type": "code",
   "execution_count": null,
   "metadata": {
    "collapsed": true
   },
   "outputs": [],
   "source": []
  }
 ],
 "metadata": {
  "kernelspec": {
   "display_name": "Python 2",
   "language": "python",
   "name": "python2"
  },
  "language_info": {
   "codemirror_mode": {
    "name": "ipython",
    "version": 2
   },
   "file_extension": ".py",
   "mimetype": "text/x-python",
   "name": "python",
   "nbconvert_exporter": "python",
   "pygments_lexer": "ipython2",
   "version": "2.7.6"
  }
 },
 "nbformat": 4,
 "nbformat_minor": 0
}
