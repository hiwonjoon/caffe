{
 "cells": [
  {
   "cell_type": "code",
   "execution_count": 1,
   "metadata": {
    "collapsed": true
   },
   "outputs": [],
   "source": [
    "import numpy as np\n",
    "\n",
    "def extract_data_baseline(filename) :\n",
    "    import numpy as np\n",
    "    import re\n",
    "    f = open(filename,'r').read();\n",
    "\n",
    "    p = re.compile(u'Iteration ([0-9]+), loss = ([0-9]+\\.[0-9]+)')\n",
    "\n",
    "    data = {}\n",
    "    \n",
    "    it_ = [];\n",
    "    loss_ = [];\n",
    "    for it, loss in re.findall(p,f):\n",
    "        it_.append(int(it))\n",
    "        loss_.append(float(loss));\n",
    "    data['loss'] = {'iteration':np.array(it_),'loss':np.array(loss_)}\n",
    "    \n",
    "    it_ = [];\n",
    "    acc_ = [];\n",
    "    p = re.compile(u'Iteration ([0-9]+), Testing net \\(#0\\)\\n.+Test net output #0: accuracy = ([0-9]*\\.*[0-9]+)\\(.+\\)\\n')\n",
    "    for it, acc in  re.findall(p,f):\n",
    "        it_.append(int(it))\n",
    "        acc_.append(float(acc))\n",
    "    data['test_accuracy']={'iteration':np.array(it_),'accuracy':np.array(acc_)}\n",
    "    \n",
    "    return data\n",
    "\n",
    "def extract_data(filename) :\n",
    "    import numpy as np\n",
    "    import re\n",
    "    f = open(filename,'r').read();\n",
    "\n",
    "    p = re.compile(u'Iteration ([0-9]+), loss = ([0-9]+\\.[0-9]+)\\n.+Train net output #0: accuracy = ([0-9]*\\.*[0-9]+)\\n')\n",
    "\n",
    "    data = {}\n",
    "    \n",
    "    it_ = [];\n",
    "    loss_ = [];\n",
    "    acc_ = [];\n",
    "    for it, loss, acc in re.findall(p,f):\n",
    "        it_.append(int(it))\n",
    "        loss_.append(float(loss));\n",
    "        acc_.append(float(acc))\n",
    "    data['loss'] = {'iteration':np.array(it_),'loss':np.array(loss_)}\n",
    "    data['train_accuracy']={'iteration':np.array(it_),'accuracy':np.array(acc_)}\n",
    "    \n",
    "    it_ = [];\n",
    "    acc_ = [];\n",
    "    p = re.compile(u'Iteration ([0-9]+), Testing net \\(#0\\)\\n.+Test net output #0: accuracy = ([0-9]*\\.*[0-9]+)\\(.+\\)\\n')\n",
    "    for it, acc in  re.findall(p,f):\n",
    "        it_.append(int(it))\n",
    "        acc_.append(float(acc))\n",
    "    data['test_accuracy']={'iteration':np.array(it_),'accuracy':np.array(acc_)}\n",
    "\n",
    "    it_ = [];\n",
    "    acc_ = [];\n",
    "    p = re.compile(u'Iteration ([0-9]+), Testing net \\(#0\\)\\n.+Test net output #0: accuracy = ([0-9]*\\.*[0-9]+)\\(.+\\)\\n')\n",
    "    for it, acc in  re.findall(p,f):\n",
    "        it_.append(int(it))\n",
    "        acc_.append(float(acc))\n",
    "    data['test_accuracy']={'iteration':np.array(it_),'accuracy':np.array(acc_)}\n",
    "    \n",
    "    return data"
   ]
  },
  {
   "cell_type": "code",
   "execution_count": 4,
   "metadata": {
    "collapsed": false
   },
   "outputs": [
    {
     "ename": "KeyboardInterrupt",
     "evalue": "",
     "output_type": "error",
     "traceback": [
      "\u001b[1;31m---------------------------------------------------------------------------\u001b[0m",
      "\u001b[1;31mKeyboardInterrupt\u001b[0m                         Traceback (most recent call last)",
      "\u001b[1;32m<ipython-input-4-6a622dc16da6>\u001b[0m in \u001b[0;36m<module>\u001b[1;34m()\u001b[0m\n\u001b[0;32m     34\u001b[0m     \u001b[0mfig\u001b[0m\u001b[1;33m.\u001b[0m\u001b[0mclf\u001b[0m\u001b[1;33m(\u001b[0m\u001b[1;33m)\u001b[0m\u001b[1;33m\u001b[0m\u001b[0m\n\u001b[0;32m     35\u001b[0m     \u001b[0mclear_output\u001b[0m\u001b[1;33m(\u001b[0m\u001b[0mwait\u001b[0m\u001b[1;33m=\u001b[0m\u001b[0mTrue\u001b[0m\u001b[1;33m)\u001b[0m\u001b[1;33m\u001b[0m\u001b[0m\n\u001b[1;32m---> 36\u001b[1;33m     \u001b[0mtime\u001b[0m\u001b[1;33m.\u001b[0m\u001b[0msleep\u001b[0m\u001b[1;33m(\u001b[0m\u001b[1;36m60\u001b[0m\u001b[1;33m)\u001b[0m\u001b[1;33m\u001b[0m\u001b[0m\n\u001b[0m",
      "\u001b[1;31mKeyboardInterrupt\u001b[0m: "
     ]
    }
   ],
   "source": [
    "%matplotlib inline\n",
    "import matplotlib\n",
    "import matplotlib.pyplot as plt\n",
    "import matplotlib.cm as cm\n",
    "\n",
    "from IPython.display import display, clear_output\n",
    "import sys, time\n",
    "while(True):\n",
    "    fig, ax = plt.subplots(nrows=1,ncols=3)\n",
    "    fig.set_size_inches(15,4)\n",
    "    \n",
    "#     data = extract_data_baseline('../nin_sc_new/2015-06-03_03_37.log')\n",
    "#     line1 = ax[0].plot(data['loss']['iteration'],data['loss']['loss'],label='loss')\n",
    "#     ax2 = ax[0].twinx()\n",
    "#     line3 = ax2.plot(data['test_accuracy']['iteration'],data['test_accuracy']['accuracy'],label='test_accuracy',linestyle='--')\n",
    "#     lns = line1 + line3; labs = [l.get_label() for l in lns]; ax[0].legend(lns, labs, loc=0)\n",
    "\n",
    "    data = extract_data('../nin_sc_new/2015-06-03_03_37.log')\n",
    "    line1 = ax[1].plot(data['loss']['iteration'],data['loss']['loss'],label='loss')\n",
    "    ax2 = ax[1].twinx()\n",
    "    line2 = ax2.plot(data['train_accuracy']['iteration'],data['train_accuracy']['accuracy'],label='train_accuracy',linestyle='--')\n",
    "    line3 = ax2.plot(data['test_accuracy']['iteration'],data['test_accuracy']['accuracy'],label='test_accuracy',linestyle='--')\n",
    "    lns = line1 + line2 + line3; labs = [l.get_label() for l in lns]; ax[1].legend(lns, labs, loc=0)\n",
    "    \n",
    "    data = extract_data('../super_category_nin/2015-06-03_04_31.log')\n",
    "    line1 = ax[2].plot(data['loss']['iteration'],data['loss']['loss'],label='loss')\n",
    "    ax2 = ax[2].twinx()\n",
    "    line2 = ax2.plot(data['train_accuracy']['iteration'],data['train_accuracy']['accuracy'],label='train_accuracy',linestyle='--')\n",
    "    line3 = ax2.plot(data['test_accuracy']['iteration'],data['test_accuracy']['accuracy'],label='test_accuracy',linestyle='--')\n",
    "    lns = line1 + line2 + line3; labs = [l.get_label() for l in lns]; ax[2].legend(lns, labs, loc=0)\n",
    "    \n",
    "    plt.tight_layout(pad=2)\n",
    "    plt.show()\n",
    "    fig.clf()\n",
    "    clear_output(wait=True)\n",
    "    time.sleep(60)"
   ]
  },
  {
   "cell_type": "code",
   "execution_count": null,
   "metadata": {
    "collapsed": true
   },
   "outputs": [],
   "source": []
  }
 ],
 "metadata": {
  "kernelspec": {
   "display_name": "Python 2",
   "language": "python",
   "name": "python2"
  },
  "language_info": {
   "codemirror_mode": {
    "name": "ipython",
    "version": 2
   },
   "file_extension": ".py",
   "mimetype": "text/x-python",
   "name": "python",
   "nbconvert_exporter": "python",
   "pygments_lexer": "ipython2",
   "version": "2.7.6"
  }
 },
 "nbformat": 4,
 "nbformat_minor": 0
}
