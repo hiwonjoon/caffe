{
 "cells": [
  {
   "cell_type": "code",
   "execution_count": 59,
   "metadata": {
    "collapsed": false
   },
   "outputs": [],
   "source": [
    "import numpy as np\n",
    "caffe_root = '../../'\n",
    "import sys\n",
    "sys.path.insert(0, caffe_root+'python')\n",
    "import caffe\n",
    "\n",
    "#net = caffe.Net('../nin_sc_new/deploy.prototxt','../nin_sc_new/cifar10_nin_supercategory_iter_60000.caffemodel', caffe.TEST)\n",
    "#net = caffe.Net('../super_category_nin/deploy.prototxt','../super_category_nin/cifar10_nin_supercategory_iter_60000.caffemodel', caffe.TEST)\n",
    "net = caffe.Net('../super_category_finetuning/deploy.prototxt','../super_category_finetuning/nin_sc_iter_7501.caffemodel', caffe.TEST)\n",
    "\n",
    "#MODEL_FILE = '../super_category_finetuning2/deploy.prototxt'\n",
    "#PRETRAINED = '../super_category_finetuning2/nin_sc_iter_8000.caffemodel'\n",
    "# MODEL_FILE = './deploy.prototxt'\n",
    "# PRETRAINED = '../nin_base.caffemodel'\n",
    "# net = caffe.Classifier(MODEL_FILE, PRETRAINED,\n",
    "#                        mean=np.load('./imagenet_mean.npy').mean(1).mean(1),\n",
    "#                        channel_swap=(2,1,0),\n",
    "#                        raw_scale=255,\n",
    "#                        image_dims=(256, 256))\n",
    "caffe.set_mode_gpu()"
   ]
  },
  {
   "cell_type": "code",
   "execution_count": 60,
   "metadata": {
    "collapsed": true
   },
   "outputs": [],
   "source": [
    "def predict(net, inputs, oversample=True):\n",
    "    \"\"\"\n",
    "    Predict classification probabilities of inputs.\n",
    "    Parameters\n",
    "    ----------\n",
    "    inputs : iterable of (H x W x K) input ndarrays.\n",
    "    oversample : boolean\n",
    "        average predictions across center, corners, and mirrors\n",
    "        when True (default). Center-only prediction when False.\n",
    "    Returns\n",
    "    -------\n",
    "    predictions: (N x C) ndarray of class probabilities for N images and C\n",
    "        classes.\n",
    "    \"\"\"\n",
    "    transformer = caffe.io.Transformer({'data': net.blobs['data'].data.shape})\n",
    "    transformer.set_transpose('data', (2,0,1))\n",
    "    transformer.set_mean('data', np.load('./imagenet_mean.npy').mean(1).mean(1)) # mean pixel\n",
    "    transformer.set_raw_scale('data', 255)  # the reference model operates on images in [0,255] range instead of [0,1]\n",
    "    transformer.set_channel_swap('data', (2,1,0))  # the reference model has channels in BGR order instead of RGB\n",
    "    \n",
    "    if oversample:\n",
    "        # Generate center, corner, and mirrored crops.\n",
    "        input_ = caffe.io.oversample(inputs, [224,224])\n",
    "    else:\n",
    "        # Take center crop.\n",
    "        center = np.array([256,256]) / 2.0\n",
    "        crop = np.tile(center, (1, 2))[0] + np.concatenate([\n",
    "            np.array([-224,-224]) / 2.0,\n",
    "            np.array([224,224]) / 2.0\n",
    "        ])\n",
    "        input_ = np.array(inputs)[:, crop[0]:crop[2], crop[1]:crop[3], :]\n",
    "\n",
    "    # Classify\n",
    "    caffe_in = np.zeros(np.array(input_.shape)[[0, 3, 1, 2]],\n",
    "                        dtype=np.float32)\n",
    "    #print caffe_in.shape\n",
    "    for ix, in_ in enumerate(input_):\n",
    "        caffe_in[ix] = transformer.preprocess(net.inputs[0], in_)\n",
    "    out = net.forward_all(data=caffe_in)\n",
    "    predictions = out['pool4']\n",
    "\n",
    "    # For oversampling, average predictions across crops.\n",
    "    if oversample:\n",
    "        predictions = predictions.reshape((len(predictions) / 10, 10, -1))\n",
    "        predictions = predictions.mean(1)\n",
    "\n",
    "    return predictions"
   ]
  },
  {
   "cell_type": "code",
   "execution_count": 61,
   "metadata": {
    "collapsed": false,
    "scrolled": true
   },
   "outputs": [],
   "source": [
    "labels = open('/storage/datasets/ILSVRC2012/synset_words.txt').readlines()\n",
    "#labels = [ for label in labels]\n",
    "#print labels"
   ]
  },
  {
   "cell_type": "code",
   "execution_count": 63,
   "metadata": {
    "collapsed": false
   },
   "outputs": [
    {
     "name": "stdout",
     "output_type": "stream",
     "text": [
      "Middle Result : Top-1(47.00), Top-5(71.00) Middle Result : Top-1(54.50), Top-5(74.00) Middle Result : Top-1(54.00), Top-5(75.33) Middle Result : Top-1(52.75), Top-5(75.25) Middle Result : Top-1(52.60), Top-5(75.00) Middle Result : Top-1(52.33), Top-5(74.33) Middle Result : Top-1(52.00), Top-5(74.43) Middle Result : Top-1(51.88), Top-5(74.25) Middle Result : Top-1(52.00), Top-5(74.89) Middle Result : Top-1(51.20), Top-5(73.90) Middle Result : Top-1(49.82), Top-5(73.09) Middle Result : Top-1(49.42), Top-5(72.75) Middle Result : Top-1(49.23), Top-5(72.54) Middle Result : Top-1(49.21), Top-5(72.71) Middle Result : Top-1(48.87), Top-5(72.20) Middle Result : Top-1(48.75), Top-5(72.38) Middle Result : Top-1(48.94), Top-5(72.47) Middle Result : Top-1(48.89), Top-5(72.83) Middle Result : Top-1(48.68), Top-5(72.74) Middle Result : Top-1(48.35), Top-5(72.80) Middle Result : Top-1(48.86), Top-5(73.33)"
     ]
    },
    {
     "ename": "KeyboardInterrupt",
     "evalue": "",
     "output_type": "error",
     "traceback": [
      "\u001b[1;31m---------------------------------------------------------------------------\u001b[0m",
      "\u001b[1;31mKeyboardInterrupt\u001b[0m                         Traceback (most recent call last)",
      "\u001b[1;32m<ipython-input-63-fb080626e8e1>\u001b[0m in \u001b[0;36m<module>\u001b[1;34m()\u001b[0m\n\u001b[0;32m     34\u001b[0m     \u001b[1;32mprint\u001b[0m \u001b[1;34m\"Result : Top-1(%.2f), Top-5(%.2f)\"\u001b[0m\u001b[1;33m%\u001b[0m\u001b[1;33m(\u001b[0m\u001b[0mfloat\u001b[0m\u001b[1;33m(\u001b[0m\u001b[0mcorrect\u001b[0m\u001b[1;33m)\u001b[0m\u001b[1;33m/\u001b[0m\u001b[0mfloat\u001b[0m\u001b[1;33m(\u001b[0m\u001b[0mcnt\u001b[0m\u001b[1;33m)\u001b[0m\u001b[1;33m,\u001b[0m \u001b[0mfloat\u001b[0m\u001b[1;33m(\u001b[0m\u001b[0mtop5_correct\u001b[0m\u001b[1;33m)\u001b[0m\u001b[1;33m/\u001b[0m\u001b[0mfloat\u001b[0m\u001b[1;33m(\u001b[0m\u001b[0mcnt\u001b[0m\u001b[1;33m)\u001b[0m\u001b[1;33m)\u001b[0m\u001b[1;33m\u001b[0m\u001b[0m\n\u001b[0;32m     35\u001b[0m \u001b[1;33m\u001b[0m\u001b[0m\n\u001b[1;32m---> 36\u001b[1;33m \u001b[0mrun\u001b[0m\u001b[1;33m(\u001b[0m\u001b[1;33m)\u001b[0m\u001b[1;33m;\u001b[0m\u001b[1;33m\u001b[0m\u001b[0m\n\u001b[0m",
      "\u001b[1;32m<ipython-input-63-fb080626e8e1>\u001b[0m in \u001b[0;36mrun\u001b[1;34m()\u001b[0m\n\u001b[0;32m     20\u001b[0m             \u001b[0mimg\u001b[0m\u001b[1;33m[\u001b[0m\u001b[1;33m:\u001b[0m\u001b[1;33m,\u001b[0m\u001b[1;33m:\u001b[0m\u001b[1;33m,\u001b[0m\u001b[1;36m2\u001b[0m\u001b[1;33m]\u001b[0m \u001b[1;33m=\u001b[0m \u001b[0mtemp\u001b[0m\u001b[1;33m[\u001b[0m\u001b[1;36m0\u001b[0m\u001b[1;33m,\u001b[0m\u001b[1;33m:\u001b[0m\u001b[1;33m,\u001b[0m\u001b[1;33m:\u001b[0m\u001b[1;33m]\u001b[0m\u001b[1;33m;\u001b[0m\u001b[1;33m\u001b[0m\u001b[0m\n\u001b[0;32m     21\u001b[0m \u001b[1;33m\u001b[0m\u001b[0m\n\u001b[1;32m---> 22\u001b[1;33m             \u001b[0mprediction\u001b[0m \u001b[1;33m=\u001b[0m \u001b[0mpredict\u001b[0m\u001b[1;33m(\u001b[0m\u001b[0mnet\u001b[0m\u001b[1;33m,\u001b[0m \u001b[1;33m[\u001b[0m\u001b[0mimg\u001b[0m\u001b[1;33m]\u001b[0m\u001b[1;33m,\u001b[0m \u001b[0moversample\u001b[0m\u001b[1;33m=\u001b[0m\u001b[0mFalse\u001b[0m\u001b[1;33m)\u001b[0m\u001b[1;33m.\u001b[0m\u001b[0mreshape\u001b[0m\u001b[1;33m(\u001b[0m\u001b[1;36m1000\u001b[0m\u001b[1;33m)\u001b[0m\u001b[1;33m\u001b[0m\u001b[0m\n\u001b[0m\u001b[0;32m     23\u001b[0m \u001b[1;33m\u001b[0m\u001b[0m\n\u001b[0;32m     24\u001b[0m             \u001b[1;32mif\u001b[0m \u001b[0mprediction\u001b[0m\u001b[1;33m.\u001b[0m\u001b[0margmax\u001b[0m\u001b[1;33m(\u001b[0m\u001b[1;33m)\u001b[0m \u001b[1;33m==\u001b[0m \u001b[0mlabel\u001b[0m \u001b[1;33m:\u001b[0m\u001b[1;33m\u001b[0m\u001b[0m\n",
      "\u001b[1;32m<ipython-input-60-de80121bf021>\u001b[0m in \u001b[0;36mpredict\u001b[1;34m(net, inputs, oversample)\u001b[0m\n\u001b[0;32m     37\u001b[0m     \u001b[1;32mfor\u001b[0m \u001b[0mix\u001b[0m\u001b[1;33m,\u001b[0m \u001b[0min_\u001b[0m \u001b[1;32min\u001b[0m \u001b[0menumerate\u001b[0m\u001b[1;33m(\u001b[0m\u001b[0minput_\u001b[0m\u001b[1;33m)\u001b[0m\u001b[1;33m:\u001b[0m\u001b[1;33m\u001b[0m\u001b[0m\n\u001b[0;32m     38\u001b[0m         \u001b[0mcaffe_in\u001b[0m\u001b[1;33m[\u001b[0m\u001b[0mix\u001b[0m\u001b[1;33m]\u001b[0m \u001b[1;33m=\u001b[0m \u001b[0mtransformer\u001b[0m\u001b[1;33m.\u001b[0m\u001b[0mpreprocess\u001b[0m\u001b[1;33m(\u001b[0m\u001b[0mnet\u001b[0m\u001b[1;33m.\u001b[0m\u001b[0minputs\u001b[0m\u001b[1;33m[\u001b[0m\u001b[1;36m0\u001b[0m\u001b[1;33m]\u001b[0m\u001b[1;33m,\u001b[0m \u001b[0min_\u001b[0m\u001b[1;33m)\u001b[0m\u001b[1;33m\u001b[0m\u001b[0m\n\u001b[1;32m---> 39\u001b[1;33m     \u001b[0mout\u001b[0m \u001b[1;33m=\u001b[0m \u001b[0mnet\u001b[0m\u001b[1;33m.\u001b[0m\u001b[0mforward_all\u001b[0m\u001b[1;33m(\u001b[0m\u001b[0mdata\u001b[0m\u001b[1;33m=\u001b[0m\u001b[0mcaffe_in\u001b[0m\u001b[1;33m)\u001b[0m\u001b[1;33m\u001b[0m\u001b[0m\n\u001b[0m\u001b[0;32m     40\u001b[0m     \u001b[0mpredictions\u001b[0m \u001b[1;33m=\u001b[0m \u001b[0mout\u001b[0m\u001b[1;33m[\u001b[0m\u001b[1;34m'pool4'\u001b[0m\u001b[1;33m]\u001b[0m\u001b[1;33m\u001b[0m\u001b[0m\n\u001b[0;32m     41\u001b[0m \u001b[1;33m\u001b[0m\u001b[0m\n",
      "\u001b[1;32m/home/nine/caffe/python/caffe/pycaffe.pyc\u001b[0m in \u001b[0;36m_Net_forward_all\u001b[1;34m(self, blobs, **kwargs)\u001b[0m\n\u001b[0;32m    158\u001b[0m     \u001b[0mall_outs\u001b[0m \u001b[1;33m=\u001b[0m \u001b[1;33m{\u001b[0m\u001b[0mout\u001b[0m\u001b[1;33m:\u001b[0m \u001b[1;33m[\u001b[0m\u001b[1;33m]\u001b[0m \u001b[1;32mfor\u001b[0m \u001b[0mout\u001b[0m \u001b[1;32min\u001b[0m \u001b[0mset\u001b[0m\u001b[1;33m(\u001b[0m\u001b[0mself\u001b[0m\u001b[1;33m.\u001b[0m\u001b[0moutputs\u001b[0m \u001b[1;33m+\u001b[0m \u001b[1;33m(\u001b[0m\u001b[0mblobs\u001b[0m \u001b[1;32mor\u001b[0m \u001b[1;33m[\u001b[0m\u001b[1;33m]\u001b[0m\u001b[1;33m)\u001b[0m\u001b[1;33m)\u001b[0m\u001b[1;33m}\u001b[0m\u001b[1;33m\u001b[0m\u001b[0m\n\u001b[0;32m    159\u001b[0m     \u001b[1;32mfor\u001b[0m \u001b[0mbatch\u001b[0m \u001b[1;32min\u001b[0m \u001b[0mself\u001b[0m\u001b[1;33m.\u001b[0m\u001b[0m_batch\u001b[0m\u001b[1;33m(\u001b[0m\u001b[0mkwargs\u001b[0m\u001b[1;33m)\u001b[0m\u001b[1;33m:\u001b[0m\u001b[1;33m\u001b[0m\u001b[0m\n\u001b[1;32m--> 160\u001b[1;33m         \u001b[0mouts\u001b[0m \u001b[1;33m=\u001b[0m \u001b[0mself\u001b[0m\u001b[1;33m.\u001b[0m\u001b[0mforward\u001b[0m\u001b[1;33m(\u001b[0m\u001b[0mblobs\u001b[0m\u001b[1;33m=\u001b[0m\u001b[0mblobs\u001b[0m\u001b[1;33m,\u001b[0m \u001b[1;33m**\u001b[0m\u001b[0mbatch\u001b[0m\u001b[1;33m)\u001b[0m\u001b[1;33m\u001b[0m\u001b[0m\n\u001b[0m\u001b[0;32m    161\u001b[0m         \u001b[1;32mfor\u001b[0m \u001b[0mout\u001b[0m\u001b[1;33m,\u001b[0m \u001b[0mout_blob\u001b[0m \u001b[1;32min\u001b[0m \u001b[0mouts\u001b[0m\u001b[1;33m.\u001b[0m\u001b[0miteritems\u001b[0m\u001b[1;33m(\u001b[0m\u001b[1;33m)\u001b[0m\u001b[1;33m:\u001b[0m\u001b[1;33m\u001b[0m\u001b[0m\n\u001b[0;32m    162\u001b[0m             \u001b[0mall_outs\u001b[0m\u001b[1;33m[\u001b[0m\u001b[0mout\u001b[0m\u001b[1;33m]\u001b[0m\u001b[1;33m.\u001b[0m\u001b[0mextend\u001b[0m\u001b[1;33m(\u001b[0m\u001b[0mout_blob\u001b[0m\u001b[1;33m.\u001b[0m\u001b[0mcopy\u001b[0m\u001b[1;33m(\u001b[0m\u001b[1;33m)\u001b[0m\u001b[1;33m)\u001b[0m\u001b[1;33m\u001b[0m\u001b[0m\n",
      "\u001b[1;32m/home/nine/caffe/python/caffe/pycaffe.pyc\u001b[0m in \u001b[0;36m_Net_forward\u001b[1;34m(self, blobs, start, end, **kwargs)\u001b[0m\n\u001b[0;32m     90\u001b[0m             \u001b[0mself\u001b[0m\u001b[1;33m.\u001b[0m\u001b[0mblobs\u001b[0m\u001b[1;33m[\u001b[0m\u001b[0min_\u001b[0m\u001b[1;33m]\u001b[0m\u001b[1;33m.\u001b[0m\u001b[0mdata\u001b[0m\u001b[1;33m[\u001b[0m\u001b[1;33m.\u001b[0m\u001b[1;33m.\u001b[0m\u001b[1;33m.\u001b[0m\u001b[1;33m]\u001b[0m \u001b[1;33m=\u001b[0m \u001b[0mblob\u001b[0m\u001b[1;33m\u001b[0m\u001b[0m\n\u001b[0;32m     91\u001b[0m \u001b[1;33m\u001b[0m\u001b[0m\n\u001b[1;32m---> 92\u001b[1;33m     \u001b[0mself\u001b[0m\u001b[1;33m.\u001b[0m\u001b[0m_forward\u001b[0m\u001b[1;33m(\u001b[0m\u001b[0mstart_ind\u001b[0m\u001b[1;33m,\u001b[0m \u001b[0mend_ind\u001b[0m\u001b[1;33m)\u001b[0m\u001b[1;33m\u001b[0m\u001b[0m\n\u001b[0m\u001b[0;32m     93\u001b[0m \u001b[1;33m\u001b[0m\u001b[0m\n\u001b[0;32m     94\u001b[0m     \u001b[1;31m# Unpack blobs to extract\u001b[0m\u001b[1;33m\u001b[0m\u001b[1;33m\u001b[0m\u001b[0m\n",
      "\u001b[1;31mKeyboardInterrupt\u001b[0m: "
     ]
    }
   ],
   "source": [
    "def run():\n",
    "    cnt = 0\n",
    "    correct = 0\n",
    "    top5_correct = 0\n",
    "    \n",
    "    import lmdb\n",
    "    env = lmdb.open('/storage/datasets/ILSVRC2012/val_lmdb')\n",
    "    with env.begin() as txn:\n",
    "        cursor = txn.cursor()\n",
    "        import time\n",
    "        start = time.time()\n",
    "        for key,value in cursor : \n",
    "            datum = caffe.proto.caffe_pb2.Datum()\n",
    "            datum.ParseFromString(value)\n",
    "            label = datum.label\n",
    "            temp = np.fromstring(datum.data,dtype=np.uint8).reshape(3,256,256)\n",
    "            img = np.zeros([256,256,3],np.uint8);\n",
    "            img[:,:,0] = temp[2,:,:];\n",
    "            img[:,:,1] = temp[1,:,:];\n",
    "            img[:,:,2] = temp[0,:,:];\n",
    "            \n",
    "            prediction = predict(net, [img], oversample=False).reshape(1000)\n",
    "\n",
    "            if prediction.argmax() == label :\n",
    "                correct = correct + 1\n",
    "            top_5 = prediction.argsort()[-5:][::-1]\n",
    "            if label in top_5 :\n",
    "                top5_correct = top5_correct + 1\n",
    "            cnt = cnt + 1\n",
    "            if( cnt % 100 == 0 ):\n",
    "                import sys;\n",
    "                print \"Middle Result : Top-1(%.2f), Top-5(%.2f)\"%(float(correct)/float(cnt)*100, float(top5_correct)/float(cnt)*100),\n",
    "                sys.stdout.flush()\n",
    "    print \"Result : Top-1(%.2f), Top-5(%.2f)\"%(float(correct)/float(cnt), float(top5_correct)/float(cnt))\n",
    "    \n",
    "run();"
   ]
  },
  {
   "cell_type": "code",
   "execution_count": null,
   "metadata": {
    "collapsed": true
   },
   "outputs": [],
   "source": []
  }
 ],
 "metadata": {
  "kernelspec": {
   "display_name": "Python 2",
   "language": "python",
   "name": "python2"
  },
  "language_info": {
   "codemirror_mode": {
    "name": "ipython",
    "version": 2
   },
   "file_extension": ".py",
   "mimetype": "text/x-python",
   "name": "python",
   "nbconvert_exporter": "python",
   "pygments_lexer": "ipython2",
   "version": "2.7.6"
  }
 },
 "nbformat": 4,
 "nbformat_minor": 0
}
